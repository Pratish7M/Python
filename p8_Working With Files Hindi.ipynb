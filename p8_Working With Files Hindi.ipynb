{
 "cells": [
  {
   "cell_type": "code",
   "execution_count": 1,
   "id": "6acb9a5c-d746-45ff-8eee-051e59e6dc2a",
   "metadata": {},
   "outputs": [],
   "source": [
    "f = open(\"test.txt\" , 'w')"
   ]
  },
  {
   "cell_type": "code",
   "execution_count": 2,
   "id": "9685a9f7-904c-4ace-ae6a-08046d3f5802",
   "metadata": {},
   "outputs": [
    {
     "data": {
      "text/plain": [
       "'c:\\\\Users\\\\HP\\\\Downloads\\\\Desktop\\\\Data Science\\\\python_course'"
      ]
     },
     "execution_count": 2,
     "metadata": {},
     "output_type": "execute_result"
    }
   ],
   "source": [
    "pwd   # tells where is file located"
   ]
  },
  {
   "cell_type": "code",
   "execution_count": 3,
   "id": "664b4c09-19f8-4371-927c-87da85345e33",
   "metadata": {},
   "outputs": [
    {
     "name": "stdout",
     "output_type": "stream",
     "text": [
      " Volume in drive C is Windows\n",
      " Volume Serial Number is 46C8-E9DC\n",
      "\n",
      " Directory of c:\\Users\\HP\\Downloads\\Desktop\\Data Science\\python_course\n",
      "\n",
      "\n",
      " Directory of c:\\Users\\HP\\Downloads\\Desktop\\Data Science\\python_course\n",
      "\n",
      "\n",
      " Directory of c:\\Users\\HP\\Downloads\\Desktop\\Data Science\\python_course\n",
      "\n",
      "\n",
      " Directory of c:\\Users\\HP\\Downloads\\Desktop\\Data Science\\python_course\n",
      "\n"
     ]
    },
    {
     "name": "stderr",
     "output_type": "stream",
     "text": [
      "File Not Found\n"
     ]
    }
   ],
   "source": [
    "ls  # shows list files "
   ]
  },
  {
   "cell_type": "code",
   "execution_count": 4,
   "id": "c48863f9-73b0-44e8-a8f4-ceaabe5206de",
   "metadata": {},
   "outputs": [
    {
     "name": "stdout",
     "output_type": "stream",
     "text": [
      "[WinError 2] The system cannot find the file specified: 'work # you can change file location'\n",
      "c:\\Users\\HP\\Downloads\\Desktop\\Data Science\\python_course\n"
     ]
    }
   ],
   "source": [
    "cd work  # you can change file location"
   ]
  },
  {
   "cell_type": "code",
   "execution_count": 5,
   "id": "37c310f2-a948-4c2e-bb33-66589c2d2a08",
   "metadata": {},
   "outputs": [
    {
     "name": "stdout",
     "output_type": "stream",
     "text": [
      " Volume in drive C is Windows\n",
      " Volume Serial Number is 46C8-E9DC\n",
      "\n",
      " Directory of c:\\Users\\HP\\Downloads\\Desktop\\Data Science\\python_course\n",
      "\n",
      "13-07-2024  11:55    <DIR>          .\n",
      "13-07-2024  13:18    <DIR>          ..\n",
      "13-07-2024  11:55               291 angellist_two_factor_recovery_codes.txt\n",
      "08-07-2024  17:11                92 data.csv\n",
      "08-07-2024  17:11               133 data.json\n",
      "08-07-2024  17:11               115 data1.json\n",
      "26-03-2024  10:29               456 data1.txt\n",
      "26-03-2024  10:29               356 data2.txt\n",
      "26-03-2024  10:29             2,599 data3.txt\n",
      "12-07-2024  22:05    <DIR>          Flask\n",
      "26-03-2024  10:03    <DIR>          modules and package hindi (1)\n",
      "12-07-2024  18:31    <DIR>          MongoDb\n",
      "12-07-2024  18:49            19,295 MongoDb Hindi.ipynb\n",
      "23-03-2024  17:09            16,676 Multiprocessing hindi (1).ipynb\n",
      "12-07-2024  17:34    <DIR>          mysql\n",
      "23-03-2024  17:03            44,301 p1_python basic.ipynb\n",
      "11-07-2024  14:44             3,273 p10_Buffered Read And Write Hindi.ipynb\n",
      "12-07-2024  16:19             6,619 p11_logging in python hindi (1).ipynb\n",
      "23-03-2024  17:08             2,244 p12_Custom Exception Handling Hindi.ipynb\n",
      "11-07-2024  15:19            10,328 p12_Exceptions Handling With Try-Except.ipynb\n",
      "12-07-2024  16:19             5,008 p13_List Of General Use Exceptions Hindi.ipynb\n",
      "23-03-2024  17:08             3,513 p14_Best Practice Exception Handling Hindi.ipynb\n",
      "27-03-2024  13:49            16,188 p15_Multithreading HIndi.ipynb\n",
      "23-03-2024  17:09            16,676 p16_Multiprocessing hindi.ipynb\n",
      "23-03-2024  17:04            59,026 P2_list , tuple and set (1).ipynb\n",
      "23-03-2024  17:04            31,569 p3_dict , conditional ,loop (1).ipynb\n",
      "23-03-2024  17:04            20,635 p4_function part 1 hindi.ipynb\n",
      "23-03-2024  17:05            11,670 p5_Generator Functions.ipynb\n",
      "23-03-2024  17:05             4,461 p6_lambda function.ipynb\n",
      "23-03-2024  17:05            11,014 p7_Map, Reduce, Filter Function.ipynb\n",
      "11-07-2024  14:44            20,513 p8_Working With Files Hindi.ipynb\n",
      "11-07-2024  14:44             6,750 p9_File reading and writing hindi.ipynb\n",
      "11-07-2024  14:47             7,269 test.log\n",
      "13-07-2024  13:25                 0 test.txt\n",
      "11-07-2024  14:36               790 test1.txt\n",
      "08-07-2024  17:13                 9 test4.bin\n",
      "              30 File(s)        321,869 bytes\n",
      "               6 Dir(s)  30,006,288,384 bytes free\n"
     ]
    }
   ],
   "source": [
    "ls"
   ]
  },
  {
   "cell_type": "code",
   "execution_count": 6,
   "id": "6278610b-9a15-4f8a-893c-480b74befdc6",
   "metadata": {},
   "outputs": [
    {
     "data": {
      "text/plain": [
       "30"
      ]
     },
     "execution_count": 6,
     "metadata": {},
     "output_type": "execute_result"
    }
   ],
   "source": [
    "f.write(\"this is my first file to write\")"
   ]
  },
  {
   "cell_type": "code",
   "execution_count": 7,
   "id": "60943a32-0e19-4b6b-932b-ea656a28c73e",
   "metadata": {},
   "outputs": [],
   "source": [
    "f.close()"
   ]
  },
  {
   "cell_type": "code",
   "execution_count": 8,
   "id": "122cf56a-f68c-4341-83ae-097b9d228c49",
   "metadata": {},
   "outputs": [],
   "source": [
    "f = open(\"test.txt\" , 'w')"
   ]
  },
  {
   "cell_type": "code",
   "execution_count": 9,
   "id": "4d28825d-3667-4eb2-9ca7-30b56cf3bd53",
   "metadata": {},
   "outputs": [
    {
     "data": {
      "text/plain": [
       "15"
      ]
     },
     "execution_count": 9,
     "metadata": {},
     "output_type": "execute_result"
    }
   ],
   "source": [
    "f.write(\"this is my file\")"
   ]
  },
  {
   "cell_type": "code",
   "execution_count": 10,
   "id": "439a9ab8-0c18-43a2-9e2a-da1eac418537",
   "metadata": {},
   "outputs": [],
   "source": [
    "f.close()"
   ]
  },
  {
   "cell_type": "code",
   "execution_count": 11,
   "id": "b34797f8-882b-453d-8690-3679f5b90550",
   "metadata": {},
   "outputs": [],
   "source": [
    "f = open(\"test.txt\" , 'a')"
   ]
  },
  {
   "cell_type": "code",
   "execution_count": 12,
   "id": "33400e86-4863-4f4e-bbde-53664bc00fe8",
   "metadata": {},
   "outputs": [
    {
     "data": {
      "text/plain": [
       "765"
      ]
     },
     "execution_count": 12,
     "metadata": {},
     "output_type": "execute_result"
    }
   ],
   "source": [
    "f.write(\"Data Science Masters course is highly curated and uniquely designed according to the latest industry standards. This program instills students the skills essential to knowledge discovery efforts to identify standard, novel, and truly differentiated solutions and decision-making, including skills in managing, querying, analyzing, visualizing, and extracting meaning from extremely large data sets. This trending program provides students with the statistical, mathematical and computational skills needed to meet the large-scale data science challenges of today's professional world. You will learn all the stack required to work in data science industry including cloud infrastructure and real-time industry projects. This course will be taught in Hindi language.\")"
   ]
  },
  {
   "cell_type": "code",
   "execution_count": 13,
   "id": "56800068-78aa-49dc-99f5-62e77c2e6107",
   "metadata": {},
   "outputs": [],
   "source": [
    "f.close()"
   ]
  },
  {
   "cell_type": "code",
   "execution_count": 14,
   "id": "445ffc84-cc12-4c7d-97cf-eb13ca1f4c2a",
   "metadata": {},
   "outputs": [],
   "source": [
    "data = open(\"test.txt\" , 'r')"
   ]
  },
  {
   "cell_type": "code",
   "execution_count": 15,
   "id": "ee078cfe-ec9f-4401-abf6-110fc1b2e77a",
   "metadata": {},
   "outputs": [
    {
     "data": {
      "text/plain": [
       "\"this is my fileData Science Masters course is highly curated and uniquely designed according to the latest industry standards. This program instills students the skills essential to knowledge discovery efforts to identify standard, novel, and truly differentiated solutions and decision-making, including skills in managing, querying, analyzing, visualizing, and extracting meaning from extremely large data sets. This trending program provides students with the statistical, mathematical and computational skills needed to meet the large-scale data science challenges of today's professional world. You will learn all the stack required to work in data science industry including cloud infrastructure and real-time industry projects. This course will be taught in Hindi language.\""
      ]
     },
     "execution_count": 15,
     "metadata": {},
     "output_type": "execute_result"
    }
   ],
   "source": [
    "data.read()"
   ]
  },
  {
   "cell_type": "code",
   "execution_count": 16,
   "id": "3491e171-fc6b-43ab-a729-1f61fdfba460",
   "metadata": {},
   "outputs": [
    {
     "data": {
      "text/plain": [
       "''"
      ]
     },
     "execution_count": 16,
     "metadata": {},
     "output_type": "execute_result"
    }
   ],
   "source": [
    "data.readline()"
   ]
  },
  {
   "cell_type": "code",
   "execution_count": 17,
   "id": "fbaae04a-c3e4-4d8d-8a94-9d5ac0be2749",
   "metadata": {},
   "outputs": [
    {
     "data": {
      "text/plain": [
       "0"
      ]
     },
     "execution_count": 17,
     "metadata": {},
     "output_type": "execute_result"
    }
   ],
   "source": [
    "data.seek(0)"
   ]
  },
  {
   "cell_type": "code",
   "execution_count": 18,
   "id": "684e96f7-1479-4bac-8bb4-8279926acf04",
   "metadata": {},
   "outputs": [
    {
     "data": {
      "text/plain": [
       "\"this is my fileData Science Masters course is highly curated and uniquely designed according to the latest industry standards. This program instills students the skills essential to knowledge discovery efforts to identify standard, novel, and truly differentiated solutions and decision-making, including skills in managing, querying, analyzing, visualizing, and extracting meaning from extremely large data sets. This trending program provides students with the statistical, mathematical and computational skills needed to meet the large-scale data science challenges of today's professional world. You will learn all the stack required to work in data science industry including cloud infrastructure and real-time industry projects. This course will be taught in Hindi language.\""
      ]
     },
     "execution_count": 18,
     "metadata": {},
     "output_type": "execute_result"
    }
   ],
   "source": [
    "data.readline()"
   ]
  },
  {
   "cell_type": "code",
   "execution_count": 19,
   "id": "5cd8c6ac-ad3e-4b87-8182-079dbf9d1f7d",
   "metadata": {},
   "outputs": [
    {
     "data": {
      "text/plain": [
       "10"
      ]
     },
     "execution_count": 19,
     "metadata": {},
     "output_type": "execute_result"
    }
   ],
   "source": [
    "data.seek(10)"
   ]
  },
  {
   "cell_type": "code",
   "execution_count": 20,
   "id": "5a2e7238-d9b2-4600-b815-c128c8c5403a",
   "metadata": {},
   "outputs": [
    {
     "data": {
      "text/plain": [
       "\" fileData Science Masters course is highly curated and uniquely designed according to the latest industry standards. This program instills students the skills essential to knowledge discovery efforts to identify standard, novel, and truly differentiated solutions and decision-making, including skills in managing, querying, analyzing, visualizing, and extracting meaning from extremely large data sets. This trending program provides students with the statistical, mathematical and computational skills needed to meet the large-scale data science challenges of today's professional world. You will learn all the stack required to work in data science industry including cloud infrastructure and real-time industry projects. This course will be taught in Hindi language.\""
      ]
     },
     "execution_count": 20,
     "metadata": {},
     "output_type": "execute_result"
    }
   ],
   "source": [
    "data.read()"
   ]
  },
  {
   "cell_type": "code",
   "execution_count": 21,
   "id": "536b5d0e-5ba3-42ba-84df-3706a16ab0a9",
   "metadata": {},
   "outputs": [],
   "source": [
    "data1 = open(\"test.txt\" , 'r')"
   ]
  },
  {
   "cell_type": "code",
   "execution_count": 22,
   "id": "96813bb2-8d80-4746-a8e3-e9c979f65679",
   "metadata": {},
   "outputs": [
    {
     "name": "stdout",
     "output_type": "stream",
     "text": [
      "this is my fileData Science Masters course is highly curated and uniquely designed according to the latest industry standards. This program instills students the skills essential to knowledge discovery efforts to identify standard, novel, and truly differentiated solutions and decision-making, including skills in managing, querying, analyzing, visualizing, and extracting meaning from extremely large data sets. This trending program provides students with the statistical, mathematical and computational skills needed to meet the large-scale data science challenges of today's professional world. You will learn all the stack required to work in data science industry including cloud infrastructure and real-time industry projects. This course will be taught in Hindi language.\n"
     ]
    }
   ],
   "source": [
    "for i in data1:\n",
    "    print(i)"
   ]
  },
  {
   "cell_type": "code",
   "execution_count": 23,
   "id": "41333f52-a7b3-4f2b-9403-4858b509a0bf",
   "metadata": {},
   "outputs": [],
   "source": [
    "import os"
   ]
  },
  {
   "cell_type": "code",
   "execution_count": 24,
   "id": "3c934dfd-0496-494d-974b-6bbcbe39e9f9",
   "metadata": {},
   "outputs": [
    {
     "data": {
      "text/plain": [
       "780"
      ]
     },
     "execution_count": 24,
     "metadata": {},
     "output_type": "execute_result"
    }
   ],
   "source": [
    "os.path.getsize(\"test.txt\")"
   ]
  },
  {
   "cell_type": "code",
   "execution_count": 25,
   "id": "07997006-4098-4a25-8e78-ef2269be6ef6",
   "metadata": {},
   "outputs": [
    {
     "ename": "PermissionError",
     "evalue": "[WinError 32] The process cannot access the file because it is being used by another process: 'test.txt'",
     "output_type": "error",
     "traceback": [
      "\u001b[1;31m---------------------------------------------------------------------------\u001b[0m",
      "\u001b[1;31mPermissionError\u001b[0m                           Traceback (most recent call last)",
      "Cell \u001b[1;32mIn[25], line 1\u001b[0m\n\u001b[1;32m----> 1\u001b[0m \u001b[43mos\u001b[49m\u001b[38;5;241;43m.\u001b[39;49m\u001b[43mremove\u001b[49m\u001b[43m(\u001b[49m\u001b[38;5;124;43m\"\u001b[39;49m\u001b[38;5;124;43mtest.txt\u001b[39;49m\u001b[38;5;124;43m\"\u001b[39;49m\u001b[43m)\u001b[49m\n",
      "\u001b[1;31mPermissionError\u001b[0m: [WinError 32] The process cannot access the file because it is being used by another process: 'test.txt'"
     ]
    }
   ],
   "source": [
    "os.remove(\"test.txt\")"
   ]
  },
  {
   "cell_type": "code",
   "execution_count": 26,
   "id": "403a801f-5748-4d77-b5e4-2d5598bc1f50",
   "metadata": {},
   "outputs": [],
   "source": [
    "f = open(\"test1.txt\" , \"w\")"
   ]
  },
  {
   "cell_type": "code",
   "execution_count": 27,
   "id": "f685a9a8-c0ab-47c0-a087-d96bb475fc82",
   "metadata": {},
   "outputs": [
    {
     "data": {
      "text/plain": [
       "780"
      ]
     },
     "execution_count": 27,
     "metadata": {},
     "output_type": "execute_result"
    }
   ],
   "source": [
    "f.write(\"this is my fileData Science Masters course is highly curated and uniquely designed according to the latest industry standards. This program instills students the skills essential to knowledge discovery efforts to identify standard, novel, and truly differentiated solutions and decision-making, including skills in managing, querying, analyzing, visualizing, and extracting meaning from extremely large data sets. This trending program provides students with the statistical, mathematical and computational skills needed to meet the large-scale data science challenges of today's professional world. You will learn all the stack required to work in data science industry including cloud infrastructure and real-time industry projects. This course will be taught in Hindi language.\")"
   ]
  },
  {
   "cell_type": "code",
   "execution_count": 28,
   "id": "9f398934-3e85-4757-889d-ae9a8f2ecbcb",
   "metadata": {},
   "outputs": [],
   "source": [
    "f.close()"
   ]
  },
  {
   "cell_type": "code",
   "execution_count": 29,
   "id": "9552beb5-7039-47d6-b7ff-31eb19c0a50f",
   "metadata": {},
   "outputs": [],
   "source": [
    "os.rename(\"test1.txt\" , \"new.txt\")"
   ]
  },
  {
   "cell_type": "code",
   "execution_count": 30,
   "id": "39df0fd7-22ba-4f3d-998b-6b8383ebf3a6",
   "metadata": {},
   "outputs": [],
   "source": [
    "import shutil"
   ]
  },
  {
   "cell_type": "code",
   "execution_count": 31,
   "id": "7da445f1-6cdc-4264-bed8-1f41dfe2dbea",
   "metadata": {},
   "outputs": [
    {
     "data": {
      "text/plain": [
       "'copy_new.txt'"
      ]
     },
     "execution_count": 31,
     "metadata": {},
     "output_type": "execute_result"
    }
   ],
   "source": [
    "shutil.copy(\"new.txt\" , \"copy_new.txt\")"
   ]
  },
  {
   "cell_type": "code",
   "execution_count": 32,
   "id": "8448f87f-4218-48de-9bdd-155e25d1dfdd",
   "metadata": {},
   "outputs": [
    {
     "name": "stdout",
     "output_type": "stream",
     "text": [
      "this is my fileData Science Masters course is highly curated and uniquely designed according to the latest industry standards. This program instills students the skills essential to knowledge discovery efforts to identify standard, novel, and truly differentiated solutions and decision-making, including skills in managing, querying, analyzing, visualizing, and extracting meaning from extremely large data sets. This trending program provides students with the statistical, mathematical and computational skills needed to meet the large-scale data science challenges of today's professional world. You will learn all the stack required to work in data science industry including cloud infrastructure and real-time industry projects. This course will be taught in Hindi language.\n"
     ]
    }
   ],
   "source": [
    "with open(\"new.txt\" , \"r\") as f :\n",
    "    print(f.read())\n",
    "    "
   ]
  },
  {
   "cell_type": "code",
   "execution_count": null,
   "id": "9dca6578-4786-4525-a29e-2bdb3f0fecf9",
   "metadata": {},
   "outputs": [],
   "source": []
  }
 ],
 "metadata": {
  "kernelspec": {
   "display_name": "Python 3 (ipykernel)",
   "language": "python",
   "name": "python3"
  },
  "language_info": {
   "codemirror_mode": {
    "name": "ipython",
    "version": 3
   },
   "file_extension": ".py",
   "mimetype": "text/x-python",
   "name": "python",
   "nbconvert_exporter": "python",
   "pygments_lexer": "ipython3",
   "version": "3.11.2"
  }
 },
 "nbformat": 4,
 "nbformat_minor": 5
}
